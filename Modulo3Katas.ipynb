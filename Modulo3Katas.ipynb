{
 "cells": [
  {
   "cell_type": "markdown",
   "metadata": {},
   "source": [
    "## Escribir una lógica condicional que imprima una advertencia si un asteroide se acerca a la Tierra demasiado rápido.\n",
    "---\n",
    "La velocidad del asteriode varía dependiendo de lo cerca que esta del sol, y cualquier velocidad **superior a los 25 km/s** merece una **advertencia**."
   ]
  },
  {
   "cell_type": "markdown",
   "metadata": {},
   "source": [
    "1. Un asteriode se acerca, y viaja a una velocidad de 49 km/s."
   ]
  },
  {
   "cell_type": "code",
   "execution_count": 37,
   "metadata": {},
   "outputs": [
    {
     "name": "stdout",
     "output_type": "stream",
     "text": [
      " ¡Alerta viajero!, el asteriode esta viajando a una velocidad de: 49 km/s y se apróxima a la Tierra :c\n"
     ]
    }
   ],
   "source": [
    "# Añadir el código necesario para crear una variable que guarde la velocidad del asteroide.\n",
    "vel_asteroide = 49\n",
    "# Escribe una expresión de prueba para calcular si se necesita una advertencia.\n",
    "if vel_asteroide > 25 :\n",
    "    # Agregue las instrucciones que se ejecutaran si la expresión de prueba es true o false.\n",
    "    print(\" ¡Alerta viajero!, el asteriode esta viajando a una velocidad de: \" + str(vel_asteroide) + \" km/s y se apróxima a la Tierra :c\")\n",
    "else:\n",
    "    print(\"¡Todo se encuentra tranquilamente tropical viajero!\")"
   ]
  },
  {
   "cell_type": "markdown",
   "metadata": {},
   "source": [
    "2. Si un asteroide entra a la atmósfera de la Tierra a una velocidad mayor o igual a 20 km/s, a veces produce un rayo de luz que se puede ver desde la Tierra. Escribe la lógica condicional que usa las declaraciones `if` , `else` y `elif` para alertar a las personas de todo el mundo que deben buscar un asteroide en el cielo. ¡Hay uno que se dirige a la Tierra a una velocidad de 19 km/s !"
   ]
  },
  {
   "cell_type": "code",
   "execution_count": 38,
   "metadata": {},
   "outputs": [
    {
     "name": "stdout",
     "output_type": "stream",
     "text": [
      "¡¡Personas de todo el mundo, contemplad el rasho de luz!!\n",
      "*¡Alerta viajero!, el asteriode esta viajando a una velocidad de: 26 km/s y se apróxima a la Tierra :c\n"
     ]
    }
   ],
   "source": [
    "# Añadir el código necesario para crear una variable que guarde la velocidad del asteroide.\n",
    "vel_asteroide = 26\n",
    "# Escribe varias expresiones de prueba para determinar si puedes ver el rayo de luz desde la tierra\n",
    "if vel_asteroide > 20:\n",
    "    print(\"¡¡Personas de todo el mundo, contemplad el rasho de luz!!\")\n",
    "    if vel_asteroide > 25:\n",
    "        print(\"*¡Alerta viajero!, el asteriode esta viajando a una velocidad de: \" + str(vel_asteroide) + \" km/s y se apróxima a la Tierra :c\")\n",
    "elif vel_asteroide == 20:\n",
    "    print(\"¡¡Personas de todo el mundo, miren el rayo de luz directo del cosmos!!\")\n",
    "else:\n",
    "    print(\"¡Todo se encuentra tranquilamente tropical viajero!\")\n",
    "# Agrega las instrucciones que se ejecutarán si las expresiones de prueba son True o False"
   ]
  },
  {
   "cell_type": "markdown",
   "metadata": {},
   "source": [
    "*Los asteroides de menos de 25 metros en su dimensión más grande probablemente se quemarán a medida que entren en la atmósfera de la Tierra.\n",
    "- Si una pieza de un asteroide que es más grande que 25 metros pero más pequeña que 1000 metros golpeara la Tierra, causaría mucho daño.\n",
    "\n",
    "También discutimos en el ejercicio anterior que:\n",
    "\n",
    "- La velocidad del asteroide varía en función de lo cerca que esté del sol, y cualquier velocidad superior a 25 kilómetros por segundo (km/s) merece una advertencia.\n",
    "- Si un asteroide entra en la atmósfera de la Tierra a una velocidad mayor o igual a 20 km/s, a veces produce un rayo de luz que se puede ver desde la Tierra.\n",
    "Usando toda esta información, escribe un programa que emita la advertencia o información correcta a la gente de la Tierra, según la velocidad y el tamaño de un asteroide. Utiliza instrucciones if, else, y elif, así como los operadores and y or."
   ]
  },
  {
   "cell_type": "code",
   "execution_count": 43,
   "metadata": {},
   "outputs": [
    {
     "name": "stdout",
     "output_type": "stream",
     "text": [
      "¡¡Personas de todo el mundo, contemplad el rasho de luz!!\n",
      "*¡Alerta viajero!, hay un asteriode viajando a una velocidad de: 26 km/s, hay probabilidades de deshacerse en la atmósfera, pero mantenedse al tanto.\n"
     ]
    }
   ],
   "source": [
    "# Agrega el código para crear nuevas variables para la velocidad y el tamaño del asteroide\n",
    "vel_asteroide = 26\n",
    "tamanio_asteriode = 24\n",
    "# Para probar el código, prueba con varias velocidades y tamaños\n",
    "if vel_asteroide > 20:\n",
    "    print(\"¡¡Personas de todo el mundo, contemplad el rasho de luz!!\")\n",
    "    if vel_asteroide > 25 and tamanio_asteriode >= 25:\n",
    "        print(\"*¡Peligro inminente!, el asteriode de: \" + str(tamanio_asteriode) +\" metros, esta viajando a una velocidad de: \" + str(vel_asteroide) + \" km/s y se apróxima a la Tierra :c\")\n",
    "    else:\n",
    "        print(\"*¡Alerta viajero!, hay un asteriode viajando a una velocidad de: \" + str(vel_asteroide) + \" km/s, hay probabilidades de deshacerse en la atmósfera, pero mantenedse al tanto.\")\n",
    "elif vel_asteroide == 20:\n",
    "    print(\"¡¡Personas de todo el mundo, miren el rayo de luz directo del cosmos!!\")\n",
    "else:\n",
    "    print(\"¡Todo se encuentra tranquilamente tropical viajero!\")\n",
    "# Escribe varias expresiones de prueba o combinaciones de expresiones de prueba para determinar qué mensaje se debe enviar a Tierra.\n"
   ]
  }
 ],
 "metadata": {
  "interpreter": {
   "hash": "b89b5cfaba6639976dc87ff2fec6d58faec662063367e2c229c520fe71072417"
  },
  "kernelspec": {
   "display_name": "Python 3.10.2 64-bit",
   "language": "python",
   "name": "python3"
  },
  "language_info": {
   "codemirror_mode": {
    "name": "ipython",
    "version": 3
   },
   "file_extension": ".py",
   "mimetype": "text/x-python",
   "name": "python",
   "nbconvert_exporter": "python",
   "pygments_lexer": "ipython3",
   "version": "3.10.2"
  },
  "orig_nbformat": 4
 },
 "nbformat": 4,
 "nbformat_minor": 2
}
